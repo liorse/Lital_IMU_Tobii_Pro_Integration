{
 "cells": [
  {
   "cell_type": "code",
   "execution_count": 1,
   "metadata": {},
   "outputs": [
    {
     "data": {
      "text/plain": [
       "<SocketContext(bind='tcp://127.0.0.1:5555')>"
      ]
     },
     "execution_count": 1,
     "metadata": {},
     "output_type": "execute_result"
    }
   ],
   "source": [
    "import zmq\n",
    "import sys\n",
    "import time\n",
    "context = zmq.Context()\n",
    "socket = context.socket(zmq.PUB)\n",
    "socket.bind(\"tcp://localhost:5555\")  # Bind to the port to allow connections"
   ]
  },
  {
   "cell_type": "code",
   "execution_count": 6,
   "metadata": {},
   "outputs": [],
   "source": [
    "socket.send_string(\"30\")"
   ]
  },
  {
   "cell_type": "code",
   "execution_count": 13,
   "metadata": {},
   "outputs": [],
   "source": [
    "socket.close()\n",
    "context.term()"
   ]
  },
  {
   "cell_type": "code",
   "execution_count": null,
   "metadata": {},
   "outputs": [
    {
     "ename": "",
     "evalue": "",
     "output_type": "error",
     "traceback": [
      "\u001b[1;31mRunning cells with 'lital (Python 3.10.6)' requires the ipykernel package.\n",
      "\u001b[1;31mRun the following command to install 'ipykernel' into the Python environment. \n",
      "\u001b[1;31mCommand: 'conda install -n lital ipykernel --update-deps --force-reinstall'"
     ]
    }
   ],
   "source": [
    "import zmq\n",
    "import time\n",
    "\n",
    "context = zmq.Context()\n",
    "socket = context.socket(zmq.PUB)\n",
    "socket.bind(\"tcp://*:5555\")\n",
    "\n",
    "# Example: Send speed and volume updates\n",
    "\n",
    "new_speed = input(\"Enter new playback speed (e.g., 1.5 for 1.5x): \")\n",
    "new_volume = input(\"Enter new volume level (e.g., 0.8 for 80%): \")\n",
    "message = f\"{new_speed},{new_volume}\"\n",
    "socket.send_string(message)\n",
    "\n"
   ]
  }
 ],
 "metadata": {
  "kernelspec": {
   "display_name": "lital",
   "language": "python",
   "name": "python3"
  },
  "language_info": {
   "codemirror_mode": {
    "name": "ipython",
    "version": 3
   },
   "file_extension": ".py",
   "mimetype": "text/x-python",
   "name": "python",
   "nbconvert_exporter": "python",
   "pygments_lexer": "ipython3",
   "version": "3.10.15"
  }
 },
 "nbformat": 4,
 "nbformat_minor": 2
}
